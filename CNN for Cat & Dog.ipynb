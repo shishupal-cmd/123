{
 "cells": [
  {
   "cell_type": "code",
   "execution_count": 1,
   "metadata": {},
   "outputs": [
    {
     "name": "stderr",
     "output_type": "stream",
     "text": [
      "Using TensorFlow backend.\n"
     ]
    }
   ],
   "source": [
    "from keras.layers import Convolution2D"
   ]
  },
  {
   "cell_type": "code",
   "execution_count": 2,
   "metadata": {},
   "outputs": [],
   "source": [
    "from keras.layers import MaxPooling2D"
   ]
  },
  {
   "cell_type": "code",
   "execution_count": 3,
   "metadata": {},
   "outputs": [],
   "source": [
    "from keras.layers import Flatten"
   ]
  },
  {
   "cell_type": "code",
   "execution_count": 4,
   "metadata": {},
   "outputs": [],
   "source": [
    "from keras.layers import Dense"
   ]
  },
  {
   "cell_type": "code",
   "execution_count": 5,
   "metadata": {},
   "outputs": [],
   "source": [
    "from keras.models import Sequential"
   ]
  },
  {
   "cell_type": "code",
   "execution_count": 6,
   "metadata": {},
   "outputs": [],
   "source": [
    "model=Sequential()"
   ]
  },
  {
   "cell_type": "code",
   "execution_count": 7,
   "metadata": {},
   "outputs": [],
   "source": [
    "model.add(Convolution2D(filters=34 , kernel_size=(3,3),activation='relu',input_shape=(64,64,3)))"
   ]
  },
  {
   "cell_type": "code",
   "execution_count": 8,
   "metadata": {},
   "outputs": [
    {
     "name": "stdout",
     "output_type": "stream",
     "text": [
      "Model: \"sequential_1\"\n",
      "_________________________________________________________________\n",
      "Layer (type)                 Output Shape              Param #   \n",
      "=================================================================\n",
      "conv2d_1 (Conv2D)            (None, 62, 62, 34)        952       \n",
      "=================================================================\n",
      "Total params: 952\n",
      "Trainable params: 952\n",
      "Non-trainable params: 0\n",
      "_________________________________________________________________\n"
     ]
    }
   ],
   "source": [
    "model.summary()"
   ]
  },
  {
   "cell_type": "code",
   "execution_count": 9,
   "metadata": {},
   "outputs": [],
   "source": [
    "model.add(MaxPooling2D(pool_size=(2,2)))"
   ]
  },
  {
   "cell_type": "code",
   "execution_count": 10,
   "metadata": {},
   "outputs": [],
   "source": [
    "model.add(Flatten())"
   ]
  },
  {
   "cell_type": "code",
   "execution_count": 11,
   "metadata": {},
   "outputs": [],
   "source": [
    "model.add(Dense(units=128 , activation='relu'))"
   ]
  },
  {
   "cell_type": "code",
   "execution_count": 12,
   "metadata": {},
   "outputs": [
    {
     "name": "stdout",
     "output_type": "stream",
     "text": [
      "Model: \"sequential_1\"\n",
      "_________________________________________________________________\n",
      "Layer (type)                 Output Shape              Param #   \n",
      "=================================================================\n",
      "conv2d_1 (Conv2D)            (None, 62, 62, 34)        952       \n",
      "_________________________________________________________________\n",
      "max_pooling2d_1 (MaxPooling2 (None, 31, 31, 34)        0         \n",
      "_________________________________________________________________\n",
      "flatten_1 (Flatten)          (None, 32674)             0         \n",
      "_________________________________________________________________\n",
      "dense_1 (Dense)              (None, 128)               4182400   \n",
      "=================================================================\n",
      "Total params: 4,183,352\n",
      "Trainable params: 4,183,352\n",
      "Non-trainable params: 0\n",
      "_________________________________________________________________\n"
     ]
    }
   ],
   "source": [
    "model.summary()"
   ]
  },
  {
   "cell_type": "code",
   "execution_count": 13,
   "metadata": {},
   "outputs": [],
   "source": [
    "model.add(Dense(units=1 , activation='sigmoid'))"
   ]
  },
  {
   "cell_type": "code",
   "execution_count": 14,
   "metadata": {},
   "outputs": [],
   "source": [
    "model.compile(optimizer='Adam', loss='binary_crossentropy', metrics=['accuracy'])"
   ]
  },
  {
   "cell_type": "code",
   "execution_count": 15,
   "metadata": {},
   "outputs": [],
   "source": [
    "from keras_preprocessing.image import ImageDataGenerator"
   ]
  },
  {
   "cell_type": "code",
   "execution_count": 16,
   "metadata": {},
   "outputs": [
    {
     "name": "stdout",
     "output_type": "stream",
     "text": [
      "Found 8006 images belonging to 2 classes.\n",
      "Found 1000 images belonging to 1 classes.\n",
      "Epoch 1/2\n",
      "8000/8000 [==============================] - 2635s 329ms/step - loss: 0.3797 - accuracy: 0.8228 - val_loss: 0.5199 - val_accuracy: 0.7350\n",
      "Epoch 2/2\n",
      "8000/8000 [==============================] - 2377s 297ms/step - loss: 0.1323 - accuracy: 0.9492 - val_loss: 0.7596 - val_accuracy: 0.7480\n"
     ]
    },
    {
     "data": {
      "text/plain": [
       "<keras.callbacks.callbacks.History at 0x136a224fc88>"
      ]
     },
     "execution_count": 16,
     "metadata": {},
     "output_type": "execute_result"
    }
   ],
   "source": [
    "train_datagen = ImageDataGenerator(\n",
    "        rescale=1./255,\n",
    "        shear_range=0.2,\n",
    "        zoom_range=0.2,\n",
    "        horizontal_flip=True)\n",
    "test_datagen = ImageDataGenerator(rescale=1./255)\n",
    "training_set = train_datagen.flow_from_directory(\n",
    "        'cnn_dataset/training_set/',\n",
    "        target_size=(64, 64),\n",
    "        batch_size=32,\n",
    "        class_mode='binary')\n",
    "test_set = test_datagen.flow_from_directory(\n",
    "        'cnn_dataset/test_set/',\n",
    "        target_size=(64, 64),\n",
    "        batch_size=32,\n",
    "        class_mode='binary')\n",
    "model.fit(\n",
    "        training_set,\n",
    "        steps_per_epoch=8000,\n",
    "        epochs=2,\n",
    "        validation_data=test_set,\n",
    "        validation_steps=800)"
   ]
  },
  {
   "cell_type": "code",
   "execution_count": 17,
   "metadata": {},
   "outputs": [],
   "source": [
    "from keras.preprocessing import image"
   ]
  },
  {
   "cell_type": "code",
   "execution_count": 18,
   "metadata": {},
   "outputs": [],
   "source": [
    "test_image = image.load_img('cnn_dataset/single_prediction/cat_or_dog_3.jpg', \n",
    "               target_size=(64,64))"
   ]
  },
  {
   "cell_type": "code",
   "execution_count": 19,
   "metadata": {},
   "outputs": [
    {
     "data": {
      "image/png": "[encoded data removed]",
      "text/plain": [
       "<PIL.JpegImagePlugin.JpegImageFile image mode=RGB size=64x64 at 0x136A224F908>"
      ]
     },
     "execution_count": 19,
     "metadata": {},
     "output_type": "execute_result"
    }
   ],
   "source": [
    "test_image"
   ]
  },
  {
   "cell_type": "code",
   "execution_count": 20,
   "metadata": {},
   "outputs": [],
   "source": [
    "test_image = image.img_to_array(test_image)"
   ]
  },
  {
   "cell_type": "code",
   "execution_count": 21,
   "metadata": {},
   "outputs": [
    {
     "data": {
      "text/plain": [
       "numpy.ndarray"
      ]
     },
     "execution_count": 21,
     "metadata": {},
     "output_type": "execute_result"
    }
   ],
   "source": [
    "type(test_image)"
   ]
  },
  {
   "cell_type": "code",
   "execution_count": 22,
   "metadata": {},
   "outputs": [
    {
     "data": {
      "text/plain": [
       "(64, 64, 3)"
      ]
     },
     "execution_count": 22,
     "metadata": {},
     "output_type": "execute_result"
    }
   ],
   "source": [
    "test_image.shape"
   ]
  },
  {
   "cell_type": "code",
   "execution_count": 23,
   "metadata": {},
   "outputs": [],
   "source": [
    "import numpy as np"
   ]
  },
  {
   "cell_type": "code",
   "execution_count": 24,
   "metadata": {},
   "outputs": [],
   "source": [
    "test_image = np.expand_dims(test_image, axis=0)"
   ]
  },
  {
   "cell_type": "code",
   "execution_count": 25,
   "metadata": {},
   "outputs": [
    {
     "data": {
      "text/plain": [
       "(1, 64, 64, 3)"
      ]
     },
     "execution_count": 25,
     "metadata": {},
     "output_type": "execute_result"
    }
   ],
   "source": [
    "test_image.shape"
   ]
  },
  {
   "cell_type": "code",
   "execution_count": 26,
   "metadata": {},
   "outputs": [],
   "source": [
    "result = model.predict(test_image)"
   ]
  },
  {
   "cell_type": "code",
   "execution_count": 27,
   "metadata": {},
   "outputs": [
    {
     "data": {
      "text/plain": [
       "array([[1.]], dtype=float32)"
      ]
     },
     "execution_count": 27,
     "metadata": {},
     "output_type": "execute_result"
    }
   ],
   "source": [
    "result"
   ]
  },
  {
   "cell_type": "code",
   "execution_count": 28,
   "metadata": {},
   "outputs": [
    {
     "name": "stdout",
     "output_type": "stream",
     "text": [
      "dog\n"
     ]
    }
   ],
   "source": [
    "if result[0][0] == 1.0:\n",
    "    print('dog')\n",
    "else:\n",
    "    print('cat')"
   ]
  },
  {
   "cell_type": "code",
   "execution_count": 29,
   "metadata": {},
   "outputs": [],
   "source": [
    "r = training_set.class_indices"
   ]
  },
  {
   "cell_type": "code",
   "execution_count": 30,
   "metadata": {},
   "outputs": [
    {
     "data": {
      "text/plain": [
       "{'cats': 0, 'dogs': 1}"
      ]
     },
     "execution_count": 30,
     "metadata": {},
     "output_type": "execute_result"
    }
   ],
   "source": [
    "r\n"
   ]
  },
  {
   "cell_type": "code",
   "execution_count": 31,
   "metadata": {},
   "outputs": [
    {
     "data": {
      "text/plain": [
       "[array([[[[-4.52755481e-01,  5.12846597e-02, -1.13342203e-01,\n",
       "            5.52095063e-02,  1.89660087e-01, -2.63583690e-01,\n",
       "            2.74559073e-02, -1.26123428e-01, -2.03930035e-01,\n",
       "            1.05027393e-01, -3.04415673e-02, -2.15087056e-01,\n",
       "           -2.12488528e-02, -2.09982976e-01,  1.01570159e-01,\n",
       "           -1.82601973e-01,  1.24599203e-01, -1.04843177e-01,\n",
       "           -2.19272897e-02,  1.82420220e-02, -1.10043384e-01,\n",
       "           -6.24913834e-02,  9.13871601e-02,  2.05953151e-01,\n",
       "            4.06720713e-02, -2.57294416e-01, -1.07730888e-01,\n",
       "            6.10990115e-02, -1.83069855e-01,  2.27826804e-01,\n",
       "           -1.09290868e-01, -3.11212659e-01, -1.64129689e-01,\n",
       "            2.82524049e-01],\n",
       "          [-5.93077838e-01, -2.54667521e-01,  3.81675325e-02,\n",
       "           -1.77785113e-01,  1.35633964e-02, -1.79796264e-01,\n",
       "           -1.02544621e-01,  4.17075343e-02, -1.10833071e-01,\n",
       "           -1.33330911e-01,  9.96843055e-02, -4.29147184e-01,\n",
       "           -1.73997775e-01, -9.44632590e-02,  1.63949449e-02,\n",
       "           -1.78020194e-01,  1.43336713e-01, -2.87975132e-01,\n",
       "           -1.02147639e-01, -2.92825862e-03,  1.10792458e-01,\n",
       "           -1.33502036e-02,  1.00114748e-01,  6.60654381e-02,\n",
       "            7.70157157e-03, -3.17838460e-01, -3.48287404e-01,\n",
       "           -2.00920999e-02, -1.27920032e-01,  8.10873285e-02,\n",
       "           -1.50878847e-01, -1.31898820e-01, -8.68793800e-02,\n",
       "            3.09154332e-01],\n",
       "          [-5.36916018e-01, -1.57227516e-01,  3.82476114e-03,\n",
       "            1.24590006e-05, -2.13448197e-01, -2.06217468e-01,\n",
       "            1.71284661e-01, -1.82571232e-01, -1.16961457e-01,\n",
       "            1.19638138e-01, -1.62506491e-01, -4.85191286e-01,\n",
       "           -7.57231116e-02, -2.85917044e-01,  2.12799311e-01,\n",
       "            1.28461132e-02, -6.87612370e-02, -3.01828414e-01,\n",
       "           -3.08540259e-02, -5.10455295e-02, -1.64564729e-01,\n",
       "            1.75173488e-02, -4.00780812e-02,  5.70404269e-02,\n",
       "           -5.36379106e-02, -3.15549582e-01,  8.71381760e-02,\n",
       "           -3.17130834e-02,  1.29378080e-01,  6.88216416e-03,\n",
       "           -1.62063792e-01, -1.07900873e-01, -7.95256793e-02,\n",
       "            2.75108606e-01]],\n",
       " \n",
       "         [[-1.63195521e-01,  1.69583663e-01, -3.41004103e-01,\n",
       "            1.98669389e-01,  2.18520880e-01, -8.37812275e-02,\n",
       "           -1.39370650e-01, -1.77063733e-01, -1.29978836e-01,\n",
       "            1.09251663e-01, -1.30638704e-01,  7.40101561e-02,\n",
       "           -1.78624928e-01,  1.32988989e-01,  1.54137149e-01,\n",
       "           -3.35908920e-01,  5.28052635e-02,  1.01334408e-01,\n",
       "           -1.29434675e-01, -1.38810650e-01, -3.07969481e-01,\n",
       "            1.85171627e-02, -1.02792956e-01,  1.60105154e-01,\n",
       "            3.03831995e-02,  4.84138541e-02, -2.67724067e-01,\n",
       "            7.92165399e-02,  5.70146143e-02, -4.67307009e-02,\n",
       "           -2.41508767e-01, -2.57547855e-01, -1.81889668e-01,\n",
       "            2.80973673e-01],\n",
       "          [-3.39894593e-01, -1.68183818e-01, -2.77396619e-01,\n",
       "           -3.49377900e-01, -1.00463018e-01,  1.24031790e-02,\n",
       "           -2.03887597e-01, -8.55194703e-02, -2.08530486e-01,\n",
       "           -3.32853310e-02, -2.51151145e-01, -1.04592077e-01,\n",
       "           -2.79059261e-01,  6.79180399e-02, -1.43176720e-01,\n",
       "           -5.87353185e-02,  2.97937572e-01,  2.00428456e-01,\n",
       "            7.31586590e-02, -1.66465402e-01, -3.35314013e-02,\n",
       "            1.05984055e-01, -2.46415958e-02,  1.05768427e-01,\n",
       "           -5.06105274e-02,  3.77851166e-02, -3.53302121e-01,\n",
       "            1.07069008e-01,  1.41207546e-01, -6.65045604e-02,\n",
       "           -9.78818610e-02, -9.06687751e-02,  7.15278238e-02,\n",
       "            2.28575990e-01],\n",
       "          [-2.94260472e-01,  1.42971724e-01, -9.79897529e-02,\n",
       "            7.66609460e-02, -1.18267015e-01, -1.01371042e-01,\n",
       "           -1.42866239e-01, -4.36336696e-01, -1.92003638e-01,\n",
       "            9.67671052e-02, -3.45202953e-01, -2.47332036e-01,\n",
       "           -3.04462284e-01,  2.35798936e-02,  1.82011455e-01,\n",
       "            4.24396321e-02,  6.95440397e-02, -2.00173371e-02,\n",
       "           -5.19968048e-02, -8.29689726e-02, -1.78019330e-02,\n",
       "           -2.13584155e-02,  1.09174579e-01,  1.77114576e-01,\n",
       "           -1.08725503e-01, -1.11863509e-01, -3.75502519e-02,\n",
       "           -1.41927436e-01,  9.24772695e-02, -2.56217986e-01,\n",
       "           -3.57860118e-01,  1.45652816e-01,  7.27202967e-02,\n",
       "            1.59378976e-01]],\n",
       " \n",
       "         [[-1.05377167e-01,  2.09178880e-01, -2.13184193e-01,\n",
       "            1.44859195e-01,  5.57668321e-02,  2.49528825e-01,\n",
       "           -1.78886086e-01,  3.01075857e-02, -4.54290435e-02,\n",
       "            9.76896435e-02, -6.21104203e-02,  7.91339576e-02,\n",
       "           -7.28145242e-02,  1.11877762e-01, -2.84505576e-01,\n",
       "           -1.88352376e-01,  2.76884347e-01,  9.12710726e-02,\n",
       "           -4.90575843e-02, -3.18484679e-02, -3.59627098e-01,\n",
       "            3.81506942e-02, -5.83216660e-02,  1.38470769e-01,\n",
       "            7.03420788e-02,  1.31087169e-01, -2.34524518e-01,\n",
       "           -3.98049355e-02,  2.78043598e-01, -2.18557909e-01,\n",
       "           -2.99283504e-01, -3.08585882e-01, -8.97205472e-02,\n",
       "           -2.69318763e-02],\n",
       "          [-1.92522690e-01,  1.47360312e-02, -2.87479103e-01,\n",
       "           -2.34456643e-01,  1.09625086e-01,  2.47658551e-01,\n",
       "           -2.47771710e-01,  1.97151631e-01, -2.02811897e-01,\n",
       "            1.01472110e-01,  1.02440588e-01, -2.21522033e-01,\n",
       "           -3.43602262e-02,  1.08203612e-01, -3.43291670e-01,\n",
       "            1.13009498e-01,  2.94752836e-01, -4.17947583e-02,\n",
       "            3.81250381e-02, -1.06062524e-01,  2.94003431e-02,\n",
       "            8.13570842e-02,  1.76549274e-02, -1.99152291e-01,\n",
       "           -9.94041488e-02,  3.20073776e-02, -3.25811446e-01,\n",
       "           -3.93175185e-02,  1.75727352e-01, -9.27780941e-02,\n",
       "           -1.13974154e-01,  1.23654241e-02,  1.04066543e-01,\n",
       "           -9.77576971e-02],\n",
       "          [-1.10304303e-01, -5.54328263e-02, -9.77669209e-02,\n",
       "            3.84511687e-02, -1.81442633e-01,  2.22438470e-01,\n",
       "            4.23237905e-02, -1.68388963e-01, -3.95794660e-02,\n",
       "            6.11037798e-02,  5.13193794e-02, -3.09431925e-02,\n",
       "           -3.99711169e-03,  2.29011700e-01, -5.28065264e-02,\n",
       "            2.15880960e-01,  3.64248723e-01,  1.53654158e-01,\n",
       "            3.18017416e-02, -3.84597294e-02, -1.80469826e-01,\n",
       "            1.53763473e-01,  6.31431043e-02, -2.25215927e-01,\n",
       "           -5.88017739e-02, -5.53846033e-03,  8.53123590e-02,\n",
       "           -7.61611164e-02,  1.97506979e-01, -1.43132061e-02,\n",
       "           -4.14222807e-01,  1.37097582e-01, -7.12243617e-02,\n",
       "           -5.56241116e-03]]],\n",
       " \n",
       " \n",
       "        [[[-5.33919752e-01,  1.81014761e-01,  1.40516371e-01,\n",
       "            2.44946882e-01,  9.32370350e-02,  1.18259795e-01,\n",
       "            2.05222607e-01, -9.52185467e-02,  7.48212188e-02,\n",
       "           -3.31701748e-02,  1.53500021e-01, -2.82893367e-02,\n",
       "           -8.50418732e-02,  5.25545655e-03, -1.07775845e-01,\n",
       "           -3.02981645e-01, -6.30786940e-02, -3.17783058e-02,\n",
       "           -1.17647618e-01, -1.28515810e-01, -8.16331804e-02,\n",
       "           -1.92713067e-01,  8.07987526e-02, -4.92671579e-02,\n",
       "           -1.27613749e-02,  1.66698545e-01, -6.07094690e-02,\n",
       "            3.29623036e-02, -3.29389274e-01,  2.30840519e-01,\n",
       "           -1.80834830e-01, -3.45310599e-01, -1.81215495e-01,\n",
       "            9.26961675e-02],\n",
       "          [-5.04535437e-01, -4.20627668e-02,  1.21690847e-01,\n",
       "           -1.96841225e-01,  5.51974401e-02,  1.39619216e-01,\n",
       "            4.62115370e-02, -2.27969378e-01, -3.74210849e-02,\n",
       "           -1.20204650e-01,  2.53447562e-01, -3.15254182e-01,\n",
       "           -3.49087447e-01, -1.09433725e-01, -1.37185633e-01,\n",
       "           -8.83252174e-02, -2.14065984e-01, -2.73814589e-01,\n",
       "           -3.61110270e-02, -1.24083906e-01,  2.52130538e-01,\n",
       "           -2.09253132e-01,  4.51746024e-02, -2.47407809e-01,\n",
       "            3.51039618e-02,  1.35169521e-01,  1.09083336e-02,\n",
       "           -8.44262913e-02, -8.26229677e-02,  2.36293927e-01,\n",
       "           -6.68115020e-02, -1.13666356e-01,  9.23018306e-02,\n",
       "            1.88256294e-01],\n",
       "          [-4.88662362e-01,  8.78506005e-02,  3.70737106e-01,\n",
       "           -1.25084519e-01, -1.70169681e-01,  1.29380584e-01,\n",
       "            2.67674059e-01, -3.23642790e-01,  8.56043473e-02,\n",
       "           -5.55408336e-02,  6.21719509e-02, -1.81511030e-01,\n",
       "           -2.34850243e-01, -2.64473289e-01, -1.51475696e-02,\n",
       "            1.48910433e-01, -3.04016948e-01, -1.78752482e-01,\n",
       "           -1.47481665e-01,  4.77827676e-02,  6.12321384e-02,\n",
       "           -2.78099120e-01,  1.50099080e-02, -9.25903767e-02,\n",
       "            8.07019044e-03,  5.49510606e-02, -1.45040840e-01,\n",
       "           -8.58410597e-02,  3.27233002e-02,  6.07246757e-02,\n",
       "           -9.37615484e-02,  3.68441753e-02, -9.37708188e-03,\n",
       "            1.41756937e-01]],\n",
       " \n",
       "         [[-2.28226706e-01,  1.34142220e-01, -3.05137098e-01,\n",
       "            2.44050071e-01,  2.05292597e-01,  8.87924954e-02,\n",
       "           -7.06500933e-02, -1.34562686e-01, -1.15561053e-01,\n",
       "           -6.96016178e-02,  1.75053298e-01,  3.70067134e-02,\n",
       "           -8.52307305e-02, -2.35234275e-01,  2.82171458e-01,\n",
       "           -2.86919415e-01,  7.04306457e-03,  1.56051964e-01,\n",
       "            4.74176806e-04, -5.30580021e-02, -1.00913949e-01,\n",
       "            6.01710640e-02, -8.31425488e-02,  4.53995354e-02,\n",
       "            6.04925565e-02, -2.04835311e-01,  1.09155037e-01,\n",
       "           -5.14906412e-03,  8.07597488e-02,  7.61551932e-02,\n",
       "           -4.08530980e-01, -2.16797978e-01, -1.59489974e-01,\n",
       "           -9.84242558e-02],\n",
       "          [-1.59312055e-01, -2.30207235e-01, -1.91278204e-01,\n",
       "           -3.74935478e-01, -2.19032317e-02,  1.58141106e-01,\n",
       "           -3.49256247e-02, -1.38804376e-01,  9.90573391e-02,\n",
       "           -3.24313678e-02,  1.60059348e-01, -3.17169726e-02,\n",
       "           -1.37526289e-01, -6.71359301e-02,  1.51744202e-01,\n",
       "           -1.71449900e-01, -1.62325144e-01,  8.97301659e-02,\n",
       "           -7.10380450e-02,  8.07747841e-02,  1.82399571e-01,\n",
       "            1.65151194e-01, -2.94624809e-02,  3.88801768e-02,\n",
       "           -6.65105507e-02, -6.07843697e-02, -2.35638648e-01,\n",
       "           -8.61855000e-02, -1.76567748e-01, -1.64021291e-02,\n",
       "           -6.23133928e-02,  1.47922290e-02,  3.72358784e-02,\n",
       "           -1.09022111e-02],\n",
       "          [-2.40494803e-01, -8.31163228e-02,  1.91006642e-02,\n",
       "            5.62946917e-03, -2.21818894e-01,  1.18716210e-01,\n",
       "            9.80395153e-02, -1.25766724e-01, -9.79995430e-02,\n",
       "           -2.84499303e-02,  1.30404949e-01, -1.63489670e-01,\n",
       "           -7.81836510e-02, -2.67164081e-01,  3.60879213e-01,\n",
       "            2.39372715e-01, -1.80101663e-01,  1.99144378e-01,\n",
       "            3.83581556e-02,  9.99239367e-03,  6.68240059e-03,\n",
       "            1.19587146e-01,  4.73579317e-02, -7.00588711e-03,\n",
       "           -1.26457497e-01, -2.16373235e-01, -4.09089215e-02,\n",
       "           -9.79327410e-02,  1.01446815e-01, -2.00491369e-01,\n",
       "           -3.13476205e-01,  1.87105238e-01,  8.94522443e-02,\n",
       "           -2.24183127e-02]],\n",
       " \n",
       "         [[ 2.87544489e-01,  2.10982502e-01, -2.40918502e-01,\n",
       "            5.36510814e-03,  1.36301085e-01, -1.47332460e-01,\n",
       "            6.38198331e-02,  1.55652478e-01, -7.53762126e-02,\n",
       "           -3.20816413e-02, -1.47113763e-02,  1.04535587e-01,\n",
       "            2.60789365e-01,  2.40223259e-01, -7.49704689e-02,\n",
       "           -2.03457147e-01, -2.12006662e-02, -8.08208063e-03,\n",
       "           -1.33760110e-01,  3.86831276e-02, -3.89328420e-01,\n",
       "            3.85258673e-03,  7.08777308e-02,  2.48591483e-01,\n",
       "           -6.99723884e-02,  1.44328764e-02,  6.54116571e-02,\n",
       "           -1.77616291e-02,  1.99062914e-01, -4.46481928e-02,\n",
       "           -2.42190301e-01, -3.11232239e-01, -3.76947857e-02,\n",
       "           -2.03878358e-01],\n",
       "          [ 5.92011064e-02, -1.99856520e-01, -3.33456963e-01,\n",
       "           -2.26484045e-01,  6.24937601e-02, -1.69743970e-01,\n",
       "           -2.58478761e-01,  2.80634731e-01, -9.31821689e-02,\n",
       "           -2.34800458e-01,  1.60232916e-01,  3.56038250e-02,\n",
       "            1.05748139e-01,  1.10588558e-02, -3.96189205e-02,\n",
       "            6.99274614e-02,  8.97717848e-02,  1.65666446e-01,\n",
       "           -9.50089842e-02,  4.03141975e-02,  1.82541385e-01,\n",
       "            1.11492993e-02,  1.23207971e-01, -1.07454315e-01,\n",
       "           -2.70578321e-02, -1.42322496e-01, -5.61611429e-02,\n",
       "           -8.65339395e-03,  9.05085728e-03, -9.56915915e-02,\n",
       "           -8.52073506e-02,  2.29518320e-02, -7.98321739e-02,\n",
       "           -1.99866369e-01],\n",
       "          [ 3.81303318e-02, -1.19534947e-01, -1.58328056e-01,\n",
       "            2.44552363e-03, -1.93903819e-01, -2.86711514e-01,\n",
       "           -1.54484332e-01, -3.88230965e-03, -1.85141955e-02,\n",
       "           -2.06226438e-01,  1.67145178e-01, -3.51982117e-02,\n",
       "            1.76619872e-01,  1.75297752e-01, -1.78492948e-01,\n",
       "            1.68580994e-01,  1.72964334e-01,  1.07104801e-01,\n",
       "           -6.86677992e-02,  8.43631104e-02, -6.68919608e-02,\n",
       "           -3.16099892e-03, -6.29471391e-02,  6.57869410e-03,\n",
       "            5.24016134e-02, -4.95437011e-02, -5.51259816e-02,\n",
       "           -1.80172101e-01,  1.60502911e-01, -2.61087209e-01,\n",
       "           -3.07133585e-01,  2.36800700e-01, -1.05367415e-01,\n",
       "           -2.54954964e-01]]],\n",
       " \n",
       " \n",
       "        [[[-2.48924956e-01,  5.13626374e-02,  2.09077716e-01,\n",
       "            2.06310332e-01,  6.40316606e-02,  1.34632513e-01,\n",
       "            1.73200816e-01, -1.59218550e-01,  2.14473322e-01,\n",
       "           -6.89306557e-02, -4.43457179e-02,  1.51146218e-01,\n",
       "           -6.48304075e-03,  2.14961395e-01, -1.32551104e-01,\n",
       "            3.49965133e-02, -7.21958950e-02, -1.51119918e-01,\n",
       "           -1.29032120e-01,  4.68210541e-02, -1.66756451e-01,\n",
       "           -9.94218662e-02, -1.25231653e-01, -2.98587918e-01,\n",
       "           -6.93508834e-02,  1.87140018e-01,  3.37556601e-01,\n",
       "           -2.02486627e-02, -2.78269500e-01,  2.05415547e-01,\n",
       "            1.97242975e-01, -9.31084678e-02, -1.47167519e-01,\n",
       "            5.91956675e-02],\n",
       "          [-1.16919771e-01, -9.32735670e-03,  3.58904660e-01,\n",
       "           -3.93675774e-01,  5.64028509e-02,  9.23821777e-02,\n",
       "           -3.23859677e-02, -2.75923423e-02,  2.19331011e-01,\n",
       "           -2.89579749e-01,  5.23786284e-02, -1.40295878e-01,\n",
       "           -1.57576129e-01,  8.36868286e-02, -3.98203105e-01,\n",
       "           -1.27919793e-01, -3.04039754e-02, -2.54451632e-01,\n",
       "           -1.03782050e-01,  6.03023879e-02,  2.32198581e-01,\n",
       "           -2.24999249e-01,  3.39893512e-02, -1.86477557e-01,\n",
       "           -4.60941941e-02,  1.82925120e-01, -2.81007942e-02,\n",
       "           -1.32064939e-01, -3.02470386e-01,  1.66252941e-01,\n",
       "            2.94844359e-01, -5.77598102e-02,  6.03301898e-02,\n",
       "           -1.64461493e-01],\n",
       "          [-2.48906165e-01,  7.75026977e-02,  3.92127901e-01,\n",
       "           -1.26477435e-01, -1.60715595e-01, -2.50988500e-03,\n",
       "            2.82534629e-01, -4.62553114e-01, -1.87202170e-02,\n",
       "           -1.28124788e-01, -2.72834450e-02,  6.73889965e-02,\n",
       "           -1.73452066e-03,  1.89566106e-01, -2.76414841e-01,\n",
       "            1.97394639e-01, -3.32012922e-01, -3.40980172e-01,\n",
       "            6.58724532e-02, -1.48882776e-01,  1.58517480e-01,\n",
       "           -2.58183032e-01,  6.50900900e-02, -5.28669693e-02,\n",
       "           -1.16368026e-01,  2.01673210e-01,  1.53124169e-01,\n",
       "           -3.36724967e-02,  9.64979548e-03,  1.29282922e-01,\n",
       "            3.03317104e-02,  1.54971153e-01,  4.05923165e-02,\n",
       "           -1.46596417e-01]],\n",
       " \n",
       "         [[ 6.47042394e-02,  7.66344965e-02,  1.59543380e-01,\n",
       "            1.41477168e-01,  2.92948745e-02, -1.00860432e-01,\n",
       "            3.14595997e-02,  1.58093348e-01,  1.66836798e-01,\n",
       "            2.24391976e-03, -2.21778646e-01,  2.52455264e-01,\n",
       "            2.30980560e-01, -9.91685539e-02,  1.72861367e-01,\n",
       "            5.09332940e-02, -1.52599499e-01,  1.24054946e-01,\n",
       "           -5.11324294e-02, -3.77934836e-02, -5.98331317e-02,\n",
       "            3.64164710e-02,  9.46707502e-02, -1.88804790e-01,\n",
       "           -3.61084789e-02,  9.73049402e-02,  1.86539933e-01,\n",
       "            2.12667137e-02, -2.17690125e-01,  2.07140925e-03,\n",
       "           -1.45658255e-01, -1.18507512e-01, -1.25711426e-01,\n",
       "           -1.44545943e-01],\n",
       "          [-8.31453651e-02, -1.50420368e-01, -9.78721399e-03,\n",
       "           -4.54085261e-01,  1.04749471e-01,  8.56117755e-02,\n",
       "           -4.46050130e-02,  8.64143968e-02,  1.64007306e-01,\n",
       "           -1.58342510e-01, -9.98347551e-02, -7.43181780e-02,\n",
       "            1.97466269e-01, -2.91307449e-01, -7.40462765e-02,\n",
       "            1.53474584e-01, -2.66239107e-01,  1.89164713e-01,\n",
       "           -1.28844604e-02, -1.02252280e-02,  2.63605297e-01,\n",
       "            1.44873917e-01,  6.82158247e-02, -2.86261916e-01,\n",
       "            5.81074767e-02,  2.00912997e-01,  1.16084985e-01,\n",
       "           -1.06637955e-01, -1.50869489e-01,  1.45328507e-01,\n",
       "            1.67411715e-01, -4.62504476e-02,  3.61191831e-03,\n",
       "           -3.81072313e-01],\n",
       "          [-3.70545387e-02, -3.58836167e-02,  2.25390956e-01,\n",
       "           -3.08562927e-02, -1.90465644e-01, -1.21040210e-01,\n",
       "            1.11206375e-01, -1.91687763e-01,  1.93320498e-01,\n",
       "           -3.15157734e-02, -3.35230470e-01,  1.94552347e-01,\n",
       "            1.67536899e-01, -3.63320529e-01,  1.71794340e-01,\n",
       "            1.29331097e-01, -3.14775705e-01,  1.01805657e-01,\n",
       "           -1.04034938e-01, -4.04750705e-02,  2.48336822e-01,\n",
       "            3.71172503e-02,  1.23284854e-01, -1.13233805e-01,\n",
       "           -6.59991801e-02,  1.32239699e-01,  1.25920624e-01,\n",
       "           -1.64005473e-01, -1.84191212e-01, -1.64429545e-01,\n",
       "           -1.73240125e-01,  8.11211020e-02,  6.57450184e-02,\n",
       "           -1.75021946e-01]],\n",
       " \n",
       "         [[ 3.75129372e-01,  4.06023413e-02, -3.59313458e-01,\n",
       "           -2.50064563e-02, -6.04430400e-02, -1.71950579e-01,\n",
       "            6.00890182e-02,  2.07698047e-01,  1.64264441e-01,\n",
       "           -7.13885725e-02,  7.13772513e-03,  2.92710453e-01,\n",
       "            7.81548917e-02, -4.35634926e-02, -8.46886709e-02,\n",
       "            5.87729588e-02, -1.83028892e-01,  7.75367469e-02,\n",
       "           -1.29685760e-01, -1.03294045e-01, -2.87022203e-01,\n",
       "           -2.64239699e-01, -3.31764631e-02,  2.34554261e-01,\n",
       "           -4.99404818e-02, -1.82766333e-01,  3.72199386e-01,\n",
       "           -4.38241549e-02,  1.11730151e-01, -1.57583788e-01,\n",
       "           -1.77326977e-01, -1.67413831e-01, -1.87734086e-02,\n",
       "           -2.29464576e-01],\n",
       "          [ 4.12571758e-01, -1.30340442e-01, -1.37201235e-01,\n",
       "           -1.93824381e-01,  5.49591407e-02,  6.07726723e-02,\n",
       "           -1.54281929e-01,  1.98623046e-01,  5.54292127e-02,\n",
       "           -1.84978336e-01,  8.04174319e-02,  4.65650707e-02,\n",
       "            2.49173269e-01, -1.70449493e-03, -5.96339442e-02,\n",
       "            2.85975430e-02, -1.85282513e-01,  1.89014077e-01,\n",
       "           -1.05297171e-01, -1.35445921e-02,  1.63859755e-01,\n",
       "           -2.79174626e-01,  1.04131125e-01,  1.33875117e-01,\n",
       "            1.29790576e-02, -1.80556238e-01,  6.45473003e-02,\n",
       "           -1.01652466e-01, -1.71746090e-01, -3.26346271e-02,\n",
       "            1.76942826e-03, -1.64534170e-02, -9.66373980e-02,\n",
       "           -3.32017779e-01],\n",
       "          [ 3.27845216e-01, -2.11473927e-01, -1.91035494e-01,\n",
       "           -7.05281198e-02, -1.80495605e-02, -8.07252750e-02,\n",
       "           -9.97766182e-02,  4.65123840e-02,  6.83500841e-02,\n",
       "           -8.91391411e-02, -9.58833471e-02,  2.53699362e-01,\n",
       "            2.60463208e-01,  3.38227786e-02,  7.65441880e-02,\n",
       "            3.80156620e-04, -2.33687982e-01,  6.12808689e-02,\n",
       "            1.11510597e-01, -1.52974427e-01, -1.22857779e-01,\n",
       "           -2.15105712e-01, -4.96161776e-03,  1.20089166e-01,\n",
       "           -2.04940602e-01, -1.42525360e-01,  1.85868330e-02,\n",
       "           -1.95619389e-02, -4.67272848e-03, -1.93715349e-01,\n",
       "           -2.00681418e-01,  2.39008982e-02, -3.29599753e-02,\n",
       "           -2.11981416e-01]]]], dtype=float32),\n",
       " array([ 0.10620487, -0.05515818, -0.06551915,  0.12584652, -0.041266  ,\n",
       "        -0.00138229, -0.0005336 ,  0.04591722, -0.04206481, -0.10360152,\n",
       "         0.01622903, -0.11766952, -0.00042918,  0.01548151,  0.01188423,\n",
       "         0.09660348, -0.00908253, -0.17993326, -0.0233091 , -0.04504829,\n",
       "        -0.00226325, -0.04437046, -0.28116095, -0.09554943, -0.07896842,\n",
       "        -0.0654924 ,  0.02544834,  0.26042268, -0.01343095, -0.11253347,\n",
       "         0.33708227,  0.04884594, -0.00590652, -0.03067848], dtype=float32),\n",
       " array([[-8.4408514e-02, -6.7515327e-03, -1.5231395e-02, ...,\n",
       "         -1.9093558e-02,  1.2615834e-01, -1.7462361e-03],\n",
       "        [-2.2140484e-01,  1.4879863e-01, -9.2667574e-03, ...,\n",
       "         -2.5813922e-04,  1.8977664e-01, -1.0390462e-01],\n",
       "        [ 2.4442066e-01, -3.5121895e-02, -8.8375807e-04, ...,\n",
       "         -8.6688790e-03,  1.1492409e-01, -1.0414966e-01],\n",
       "        ...,\n",
       "        [-6.0914236e-04, -2.1297324e-01, -3.2212567e-03, ...,\n",
       "         -6.3220639e-04, -2.5851637e-01,  2.4015032e-02],\n",
       "        [-1.9330293e-02,  9.4732540e-03,  1.0923692e-03, ...,\n",
       "         -6.6729360e-03, -6.0530477e-03,  1.1970788e-02],\n",
       "        [ 3.3325514e-01, -6.8474889e-02, -3.6990447e-03, ...,\n",
       "          1.1585620e-02, -9.9074103e-02, -5.8500744e-02]], dtype=float32),\n",
       " array([ 0.19458309,  0.05324846, -0.00600515,  0.19363672,  0.15891246,\n",
       "        -0.00934566, -0.04917599, -0.00588521,  0.03423868, -0.01729838,\n",
       "         0.05380074, -0.00672433, -0.00588268,  0.14742681, -0.0060041 ,\n",
       "         0.12354592,  0.13171539, -0.02409674, -0.07216164, -0.00495037,\n",
       "        -0.0235065 ,  0.19912861,  0.1178843 , -0.00455224,  0.19981417,\n",
       "         0.07548446, -0.03828442,  0.24864195, -0.0355518 , -0.00482293,\n",
       "        -0.00599719, -0.01132984, -0.00599982, -0.01552583, -0.01853754,\n",
       "        -0.01008435, -0.01030883,  0.17612243, -0.03853989,  0.10229557,\n",
       "         0.17035277,  0.02252471, -0.00526375, -0.03867134, -0.0043078 ,\n",
       "        -0.01030338, -0.00992945, -0.0042556 ,  0.3166851 , -0.12910962,\n",
       "         0.06757997, -0.01115014,  0.10414901, -0.08316439, -0.1999163 ,\n",
       "        -0.03459089,  0.02220938,  0.11845763, -0.01912255, -0.0343922 ,\n",
       "        -0.01159389, -0.035125  , -0.03184991, -0.0735257 , -0.00555585,\n",
       "        -0.00447365, -0.01003949, -0.01439489, -0.00599632, -0.0062775 ,\n",
       "        -0.00600051, -0.00599497, -0.06936639, -0.00593039, -0.04161169,\n",
       "        -0.14727455, -0.12507045, -0.00832844, -0.03401765, -0.00599868,\n",
       "        -0.07672939,  0.42764068, -0.02277671, -0.0051029 ,  0.08689178,\n",
       "        -0.00986039, -0.04657523, -0.00600327, -0.07532503, -0.00678984,\n",
       "        -0.01030746,  0.10605914, -0.11440319,  0.14554441, -0.01593103,\n",
       "        -0.0060024 ,  0.14354593, -0.00600355, -0.00118578,  0.07079018,\n",
       "        -0.00356364, -0.00308007,  0.01805727, -0.080369  , -0.01909188,\n",
       "         0.31227574, -0.06809654, -0.01022197, -0.0065652 , -0.08193033,\n",
       "        -0.00600518,  0.08215082, -0.04008389,  0.12558426, -0.03352311,\n",
       "        -0.00668294, -0.1150631 , -0.0058972 , -0.00272062, -0.01009875,\n",
       "        -0.00722436, -0.03537695, -0.00661046, -0.00147226, -0.02853623,\n",
       "        -0.0089569 ,  0.23036465,  0.22545049], dtype=float32),\n",
       " array([[-0.53000003],\n",
       "        [ 0.53673196],\n",
       "        [ 0.20948967],\n",
       "        [-0.501052  ],\n",
       "        [ 0.05908536],\n",
       "        [ 0.20550466],\n",
       "        [-0.37252924],\n",
       "        [-0.00423159],\n",
       "        [-0.3778344 ],\n",
       "        [-0.3070417 ],\n",
       "        [ 0.25874868],\n",
       "        [-0.15362968],\n",
       "        [ 0.01646831],\n",
       "        [-0.8275803 ],\n",
       "        [ 0.07322913],\n",
       "        [-0.5714834 ],\n",
       "        [-0.46383795],\n",
       "        [-0.26193035],\n",
       "        [ 0.15306984],\n",
       "        [-0.19469589],\n",
       "        [ 0.23505978],\n",
       "        [ 0.41840583],\n",
       "        [ 0.57074255],\n",
       "        [-0.02329883],\n",
       "        [-0.4259727 ],\n",
       "        [-0.4757799 ],\n",
       "        [-0.29894894],\n",
       "        [-0.39512065],\n",
       "        [ 0.19968598],\n",
       "        [ 0.06820491],\n",
       "        [ 0.05447681],\n",
       "        [ 0.12938417],\n",
       "        [-0.20071039],\n",
       "        [ 0.12321074],\n",
       "        [-0.11776364],\n",
       "        [ 0.06734156],\n",
       "        [ 0.2010021 ],\n",
       "        [-0.50241995],\n",
       "        [ 0.5045195 ],\n",
       "        [-0.380408  ],\n",
       "        [-0.33171874],\n",
       "        [-0.5009762 ],\n",
       "        [-0.1727073 ],\n",
       "        [-0.51744837],\n",
       "        [ 0.1242724 ],\n",
       "        [ 0.19225182],\n",
       "        [ 0.10281135],\n",
       "        [ 0.02052638],\n",
       "        [-0.42392182],\n",
       "        [-0.14755882],\n",
       "        [ 0.13596144],\n",
       "        [ 0.16015163],\n",
       "        [-0.35206845],\n",
       "        [ 0.36502692],\n",
       "        [-0.2873852 ],\n",
       "        [ 0.1575876 ],\n",
       "        [ 0.3771096 ],\n",
       "        [ 0.19973119],\n",
       "        [ 0.02783046],\n",
       "        [ 0.00418165],\n",
       "        [ 0.1214013 ],\n",
       "        [ 0.11173528],\n",
       "        [ 0.07873814],\n",
       "        [-0.07261063],\n",
       "        [-0.15333056],\n",
       "        [-0.14573756],\n",
       "        [ 0.05910285],\n",
       "        [ 0.1669373 ],\n",
       "        [-0.12559922],\n",
       "        [ 0.10044318],\n",
       "        [-0.1209097 ],\n",
       "        [ 0.08775621],\n",
       "        [ 0.33586612],\n",
       "        [ 0.00782678],\n",
       "        [-0.38421103],\n",
       "        [-0.31931892],\n",
       "        [ 0.6238276 ],\n",
       "        [ 0.005843  ],\n",
       "        [ 0.10589685],\n",
       "        [-0.1899098 ],\n",
       "        [-0.3701952 ],\n",
       "        [-0.51009595],\n",
       "        [ 0.0298611 ],\n",
       "        [ 0.05693591],\n",
       "        [-0.35208982],\n",
       "        [ 0.03877947],\n",
       "        [-0.47899204],\n",
       "        [ 0.04578099],\n",
       "        [ 0.10639665],\n",
       "        [-0.04384799],\n",
       "        [ 0.1987039 ],\n",
       "        [-0.45412597],\n",
       "        [-0.493434  ],\n",
       "        [-0.51534694],\n",
       "        [-0.3016122 ],\n",
       "        [-0.15418677],\n",
       "        [ 0.49754965],\n",
       "        [ 0.08300659],\n",
       "        [-0.08123599],\n",
       "        [-0.28979248],\n",
       "        [-0.12000652],\n",
       "        [ 0.09302822],\n",
       "        [ 0.14110738],\n",
       "        [-0.24829164],\n",
       "        [ 0.2025068 ],\n",
       "        [-0.4619948 ],\n",
       "        [ 0.4294691 ],\n",
       "        [ 0.11527622],\n",
       "        [-0.00526538],\n",
       "        [-0.53673357],\n",
       "        [ 0.1602206 ],\n",
       "        [-0.496102  ],\n",
       "        [ 0.41442123],\n",
       "        [ 0.36748207],\n",
       "        [ 0.0248627 ],\n",
       "        [-0.17485252],\n",
       "        [ 0.67188185],\n",
       "        [-0.08480072],\n",
       "        [-0.05279145],\n",
       "        [-0.0996006 ],\n",
       "        [ 0.1238671 ],\n",
       "        [ 0.14917427],\n",
       "        [-0.11938351],\n",
       "        [-0.05458509],\n",
       "        [-0.30493203],\n",
       "        [ 0.08519111],\n",
       "        [-0.42934278],\n",
       "        [-0.56509197]], dtype=float32),\n",
       " array([0.21612832], dtype=float32)]"
      ]
     },
     "execution_count": 31,
     "metadata": {},
     "output_type": "execute_result"
    }
   ],
   "source": [
    "model.get_weights()"
   ]
  },
  {
   "cell_type": "code",
   "execution_count": 35,
   "metadata": {},
   "outputs": [],
   "source": [
    "model.save('cnn1_model.h5')"
   ]
  },
  {
   "cell_type": "code",
   "execution_count": 36,
   "metadata": {},
   "outputs": [
    {
     "data": {
      "text/plain": [
       "{'cats': 0, 'dogs': 1}"
      ]
     },
     "execution_count": 36,
     "metadata": {},
     "output_type": "execute_result"
    }
   ],
   "source": [
    "training_set.class_indices"
   ]
  },
  {
   "cell_type": "code",
   "execution_count": null,
   "metadata": {},
   "outputs": [],
   "source": []
  },
  {
   "cell_type": "markdown",
   "metadata": {},
   "source": []
  }
 ],
 "metadata": {
  "kernelspec": {
   "display_name": "Python 3",
   "language": "python",
   "name": "python3"
  },
  "language_info": {
   "codemirror_mode": {
    "name": "ipython",
    "version": 3
   },
   "file_extension": ".py",
   "mimetype": "text/x-python",
   "name": "python",
   "nbconvert_exporter": "python",
   "pygments_lexer": "ipython3",
   "version": "3.7.6"
  }
 },
 "nbformat": 4,
 "nbformat_minor": 4
}
